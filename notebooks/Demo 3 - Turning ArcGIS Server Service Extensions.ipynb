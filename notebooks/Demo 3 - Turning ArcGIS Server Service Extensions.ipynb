{
 "cells": [
  {
   "cell_type": "code",
   "execution_count": 1,
   "metadata": {
    "collapsed": false
   },
   "outputs": [
    {
     "name": "stdout",
     "output_type": "stream",
     "text": [
      "In Folder, cachetest\n",
      "In Folder, countries\n",
      "===============================\n",
      "Examining Service: countriesoftheworld\n",
      " - Turning on WMS!\n",
      "===============================\n",
      "Examining Service: twotypes\n",
      " - Turning on WMS!\n",
      "In Folder, Hosted\n",
      "===============================\n",
      "Examining Service: ooospde\n",
      "===============================\n",
      "Examining Service: vc3test\n",
      "===============================\n",
      "Examining Service: vectortile1\n",
      "===============================\n",
      "Examining Service: vs_data\n",
      "In Folder, mptest\n",
      "===============================\n",
      "Examining Service: counties_cache_service\n",
      " - Turning on WMS!\n",
      "===============================\n",
      "Examining Service: PointsOnTheWind\n",
      " - Turning on WMS!\n",
      "In Folder, System\n",
      "===============================\n",
      "Examining Service: CachingControllers\n",
      "===============================\n",
      "Examining Service: CachingTools\n",
      "===============================\n",
      "Examining Service: PublishingTools\n",
      "===============================\n",
      "Examining Service: ReportingTools\n",
      "===============================\n",
      "Examining Service: SceneCachingControllers\n",
      "===============================\n",
      "Examining Service: SceneCachingTools\n",
      "===============================\n",
      "Examining Service: SpatialAnalysisTools\n",
      "===============================\n",
      "Examining Service: SyncTools\n",
      "In Folder, Utilities\n",
      "===============================\n",
      "Examining Service: Geometry\n",
      "===============================\n",
      "Examining Service: PrintingTools\n",
      "===============================\n",
      "Examining Service: Search\n",
      "In Folder, /\n",
      "===============================\n",
      "Examining Service: Counties\n",
      " - Turning on WMS!\n",
      "===============================\n",
      "Examining Service: SampleWorldCities\n"
     ]
    }
   ],
   "source": [
    "\"\"\"\n",
    "This demo will show users how they can ensure all map services have WMS\n",
    "enabled on each service\n",
    "\"\"\"\n",
    "import arcrest\n",
    "user = \"\"\n",
    "password = \"\"\n",
    "# example org_url: https://myorg.site.com/arcgis\n",
    "org_url = \"https://myorg.com/arcgis\"\n",
    "admin_url = \"{org}/admin\".format(org=org_url)\n",
    "token_url = \"{admin}/generateToken\".format(admin=admin_url)\n",
    "sh = arcrest.AGSTokenSecurityHandler(username=user, password=password,\n",
    "                                     org_url=org_url,\n",
    "                                     token_url=token_url)\n",
    "ags_admin = arcrest.manageags.AGSAdministration(url=admin_url,\n",
    "                                                securityHandler=sh,\n",
    "                                                initialize=True)\n",
    "services = ags_admin.services\n",
    "for folder in services.folders:\n",
    "    print(\"In Folder, %s\" % folder)\n",
    "    services.folderName = folder\n",
    "    for s in services.services:\n",
    "        print (\"===============================\")\n",
    "        print (\"Examining Service: {0}\".format(s.serviceName))\n",
    "        if s.type.lower() == \"mapserver\":\n",
    "            exts = s.extensions\n",
    "            for ext in exts:\n",
    "                if ext.typeName in ['WMSServer'] and \\\n",
    "                   ext.enabled == False:\n",
    "                    ext.enabled = True\n",
    "                    print(\" - Turning on WMS!\")\n",
    "                    s.modifyExtensions(exts)\n",
    "                    break"
   ]
  },
  {
   "cell_type": "code",
   "execution_count": null,
   "metadata": {
    "collapsed": true
   },
   "outputs": [],
   "source": []
  }
 ],
 "metadata": {
  "kernelspec": {
   "display_name": "Python 3",
   "language": "python",
   "name": "python3"
  },
  "language_info": {
   "codemirror_mode": {
    "name": "ipython",
    "version": 3
   },
   "file_extension": ".py",
   "mimetype": "text/x-python",
   "name": "python",
   "nbconvert_exporter": "python",
   "pygments_lexer": "ipython3",
   "version": "3.5.1"
  }
 },
 "nbformat": 4,
 "nbformat_minor": 0
}
