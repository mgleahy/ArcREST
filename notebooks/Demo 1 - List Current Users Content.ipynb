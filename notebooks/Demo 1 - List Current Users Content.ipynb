{
 "cells": [
  {
   "cell_type": "code",
   "execution_count": 4,
   "metadata": {
    "collapsed": false
   },
   "outputs": [],
   "source": [
    "import arcrest"
   ]
  },
  {
   "cell_type": "code",
   "execution_count": 7,
   "metadata": {
    "collapsed": true
   },
   "outputs": [],
   "source": [
    "username = \"\"\n",
    "password = \"\"\n",
    "sh = arcrest.AGOLTokenSecurityHandler(username=username, password=password)\n",
    "admin = arcrest.manageorg.Administration(securityHandler=sh)\n",
    "content = admin.content"
   ]
  },
  {
   "cell_type": "code",
   "execution_count": 19,
   "metadata": {
    "collapsed": true
   },
   "outputs": [],
   "source": [
    "# Get the logged in user\n",
    "currentUser= content.users.user()"
   ]
  },
  {
   "cell_type": "code",
   "execution_count": 20,
   "metadata": {
    "collapsed": false
   },
   "outputs": [
    {
     "name": "stdout",
     "output_type": "stream",
     "text": [
      "--------------------------------------------\n",
      "In folder: root\n",
      " - guam_replication\n",
      " - fgsjklklj\n",
      " - Zelda Slide Notes\n",
      " - A very large fgdb\n",
      " - oauth4juypter\n",
      " - fdpopo\n",
      " - test test\n",
      " - guam_replication\n",
      " - testasdfasdfass\n",
      " - mapsasd\n",
      " - zelda_map\n",
      " - ZeldaMap\n",
      " - Scripting REST\n",
      "\n",
      " - rtwserkkk\n",
      " - ZeldaMap\n",
      "--------------------------------------------\n",
      "In folder: Pdfs\n",
      " - guam\n",
      " - guam\n",
      "--------------------------------------------\n",
      "In folder: randomFolder\n",
      " - guamds\n"
     ]
    }
   ],
   "source": [
    "# Iterate through all content in each folder\n",
    "for folder in currentUser.folders:\n",
    "    currentUser.currentFolder =folder['title']\n",
    "    print ('--------------------------------------------')\n",
    "    print (\"In folder: %s\" % folder['title'])\n",
    "    for item in currentUser.items:\n",
    "        print(\" - %s\" % item.title)"
   ]
  },
  {
   "cell_type": "code",
   "execution_count": null,
   "metadata": {
    "collapsed": true
   },
   "outputs": [],
   "source": []
  }
 ],
 "metadata": {
  "kernelspec": {
   "display_name": "Python 3",
   "language": "python",
   "name": "python3"
  },
  "language_info": {
   "codemirror_mode": {
    "name": "ipython",
    "version": 3
   },
   "file_extension": ".py",
   "mimetype": "text/x-python",
   "name": "python",
   "nbconvert_exporter": "python",
   "pygments_lexer": "ipython3",
   "version": "3.5.1"
  }
 },
 "nbformat": 4,
 "nbformat_minor": 0
}
