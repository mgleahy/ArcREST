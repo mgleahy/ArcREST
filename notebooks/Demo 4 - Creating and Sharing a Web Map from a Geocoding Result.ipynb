{
 "cells": [
  {
   "cell_type": "code",
   "execution_count": 20,
   "metadata": {
    "collapsed": false
   },
   "outputs": [],
   "source": [
    "import arcrest\n",
    "import uuid\n",
    "import json\n",
    "from IPython.display import IFrame\n",
    "\n",
    "def show_web_map(id):\n",
    "    url = 'http://www.arcgis.com/home/webmap/viewer.html?webmap=' + id\n",
    "    return IFrame(url, width='100%', height=500)\n",
    "\n",
    "# Demo Values\n",
    "randomName = \"map_{0}\".format(uuid.uuid4().hex)\n",
    "featureSet = {\"geometryType\":\"esriGeometryPoint\",\"features\":[]}\n",
    "fields = [{\"name\":\"City\",\"alias\":\"CityName\",\"type\":\"esriFieldTypeString\",\n",
    "           \"length\":255,\"editable\":True,\"Noneable\":True,\"domain\":None}]\n",
    "d = {\"operationalLayers\":[{\"id\":\"csv_1429\",\"title\":\"Esri Redlands\",\"featureCollection\":{\"layers\":[\n",
    "    {\"layerDefinition\":{\"geometryType\":\"esriGeometryPoint\",\n",
    "                        \"objectIdField\":\"__OBJECTID\",\"type\":\"Feature Layer\",\n",
    "                        \"typeIdField\":\"\",\n",
    "                        \"drawingInfo\":{\"renderer\":{\"type\":\"simple\",\n",
    "                                                   \"symbol\":{\n",
    "                                                       \"type\": \"esriSMS\",\n",
    "                                                           \"style\": \"esriSMSCircle\",\n",
    "                                                           \"color\": [255,0,0,255],\n",
    "                                                           \"size\": 5,\n",
    "                                                           \"angle\": 0,\n",
    "                                                           \"xoffset\": 0,\n",
    "                                                           \"yoffset\": 0,\n",
    "                                                           \"outline\":\n",
    "                                                               {\n",
    "                                                                   \"color\": [0,0,0,255],\n",
    "                                                                   \"width\": 1    }\n",
    "                                                       }},\"fixedSymbols\":True},\n",
    "                        \"fields\":[{\"name\":\"__OBJECTID\",\"alias\":\"__OBJECTID\",\"type\":\"esriFieldTypeOID\",\n",
    "                                   \"editable\":False,\"Noneable\":False,\"domain\":None}],\n",
    "                        \"types\":[],\"capabilities\":\"Query\",\"name\":\"Redlands\",\n",
    "                        \"templates\":[]},\"featureSet\":{\"features\":[],\"geometryType\":\"esriGeometryPoint\"},\n",
    "     \"nextObjectId\":4,\"popupInfo\":{}}],\"showLegend\":True},\"visibility\":True,\"opacity\":1}],\n",
    "     \"baseMap\":{\"baseMapLayers\":[\n",
    "         {\"id\":\"NatGeo_World_Map_1836\",\"opacity\":1,\"visibility\":True,\n",
    "          \"url\":\"http://services.arcgisonline.com/ArcGIS/rest/services/NatGeo_World_Map/MapServer\"}],\n",
    "                \"title\":\"National Geographic\"},\n",
    "     \"version\":\"1.6\"\n",
    "     }"
   ]
  },
  {
   "cell_type": "code",
   "execution_count": 21,
   "metadata": {
    "collapsed": false
   },
   "outputs": [],
   "source": [
    "username = \"\"\n",
	"password = \"\"\n",
    "sh = arcrest.AGOLTokenSecurityHandler(username=username, password=password)\n",
    "admin = arcrest.manageorg.Administration(securityHandler=sh)\n"
   ]
  },
  {
   "cell_type": "code",
   "execution_count": 22,
   "metadata": {
    "collapsed": false
   },
   "outputs": [
    {
     "name": "stdout",
     "output_type": "stream",
     "text": [
      "4.1\n"
     ]
    }
   ],
   "source": [
    "#What version of AGOL are we using?\n",
    "print(admin.currentVersion)"
   ]
  },
  {
   "cell_type": "code",
   "execution_count": 23,
   "metadata": {
    "collapsed": false
   },
   "outputs": [],
   "source": [
    "#Let's view the portal properties\n",
    "portal = admin.portals.portal()"
   ]
  },
  {
   "cell_type": "code",
   "execution_count": 24,
   "metadata": {
    "collapsed": false
   },
   "outputs": [
    {
     "name": "stdout",
     "output_type": "stream",
     "text": [
      "https://geocode.arcgis.com/arcgis/rest/services/World/GeocodeServer\n"
     ]
    }
   ],
   "source": [
    "geocode_url = portal.helperServices['geocode'][0]['url']\n",
    "print (geocode_url)"
   ]
  },
  {
   "cell_type": "code",
   "execution_count": 25,
   "metadata": {
    "collapsed": false
   },
   "outputs": [],
   "source": [
    "geocode = arcrest.ags.GeocodeService(url=geocode_url, securityHandler=sh)"
   ]
  },
  {
   "cell_type": "code",
   "execution_count": 26,
   "metadata": {
    "collapsed": false
   },
   "outputs": [],
   "source": [
    "locations = geocode.find(text=\"380 New York St, Redlands, CA 92373\")"
   ]
  },
  {
   "cell_type": "code",
   "execution_count": 27,
   "metadata": {
    "collapsed": false
   },
   "outputs": [],
   "source": [
    "for l in locations['locations']:\n",
    "    featureSet['features'].append(l['feature'])\n",
    "    del l\n",
    "# Add the location to the operationLayer\n",
    "d['operationalLayers'][0]['featureCollection']['layers'][0]['featureSet'] = featureSet\n",
    "d['operationalLayers'][0]['featureCollection']['layers'][0]['layerDefinition']['fields'] = fields\n"
   ]
  },
  {
   "cell_type": "code",
   "execution_count": 29,
   "metadata": {
    "collapsed": false
   },
   "outputs": [
    {
     "data": {
      "text/html": [
       "\n",
       "        <iframe\n",
       "            width=\"100%\"\n",
       "            height=\"500\"\n",
       "            src=\"http://www.arcgis.com/home/webmap/viewer.html?webmap=bb0113db84254dbab5d4c7d6fccaa3b8\"\n",
       "            frameborder=\"0\"\n",
       "            allowfullscreen\n",
       "        ></iframe>\n",
       "        "
      ],
      "text/plain": [
       "<IPython.lib.display.IFrame at 0x7fd2e018bc18>"
      ]
     },
     "execution_count": 29,
     "metadata": {},
     "output_type": "execute_result"
    }
   ],
   "source": [
    "# Add the web map to AGOL\n",
    "#\n",
    "admin = arcrest.manageorg.Administration(securityHandler=sh)\n",
    "# Access my user content\n",
    "myself = admin.content.users.user()\n",
    "# Set the parameters for the item\n",
    "ip = arcrest.manageorg.ItemParameter()\n",
    "ip.title = randomName\n",
    "ip.type = \"Web Map\"\n",
    "ip.extent = [[-117.3009,34.0102],[-117.0474,34.1001]]\n",
    "# add the item\n",
    "item = myself.addItem(itemParameters=ip, text=json.dumps(d))\n",
    "# share it out\n",
    "item.shareItem(everyone=True)\n",
    "mymap = item.id\n",
    "#show the map in IPython\n",
    "show_web_map(mymap)\n"
   ]
  },
  {
   "cell_type": "code",
   "execution_count": null,
   "metadata": {
    "collapsed": true
   },
   "outputs": [],
   "source": []
  }
 ],
 "metadata": {
  "kernelspec": {
   "display_name": "Python 3",
   "language": "python",
   "name": "python3"
  },
  "language_info": {
   "codemirror_mode": {
    "name": "ipython",
    "version": 3
   },
   "file_extension": ".py",
   "mimetype": "text/x-python",
   "name": "python",
   "nbconvert_exporter": "python",
   "pygments_lexer": "ipython3",
   "version": "3.5.1"
  }
 },
 "nbformat": 4,
 "nbformat_minor": 0
}
