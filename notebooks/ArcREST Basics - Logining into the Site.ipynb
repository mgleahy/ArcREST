{
 "cells": [
  {
   "cell_type": "code",
   "execution_count": 1,
   "metadata": {
    "collapsed": true
   },
   "outputs": [],
   "source": [
    "\"\"\"\n",
    "\n",
    "   Common Login Methods\n",
    "\n",
    "\"\"\"\n",
    "import arcrest\n",
    "username = \"SomeUserName\"\n",
    "password = \"SomePassword\"\n",
    "org_url = \"https://chronus.esri.com/portal\"\n"
   ]
  },
  {
   "cell_type": "code",
   "execution_count": 2,
   "metadata": {
    "collapsed": true
   },
   "outputs": [],
   "source": [
    "\"\"\"\n",
    "BUILT-IN security is AGOL, Portal and Servers default login method.  \n",
    "This is just a simple username/password use case that returns a token\n",
    "\"\"\"\n",
    "\n",
    "#AGOL Login\n",
    "sh = arcrest.AGOLTokenSecurityHandler(username=username, \n",
    "                                      password=password)\n",
    "\n",
    "#Portal Login\n",
    "sh = arcrest.PortalTokenSecurityHandler(username=username, \n",
    "                                        password=password, \n",
    "                                        org_url=org_url)\n",
    "\n",
    "#ArcGIS Server Login\n",
    "sh = arcrest.AGSTokenSecurityHandler(username=username,\n",
    "                                    password=password,\n",
    "                                    org_url=\"https://chronus.esri.com/arcgis\")\n"
   ]
  },
  {
   "cell_type": "code",
   "execution_count": null,
   "metadata": {
    "collapsed": true
   },
   "outputs": [],
   "source": [
    "\"\"\"\n",
    "You can secure access to your server/portal using Lightweight Directory Access Protocol (LDAP). \n",
    "When you use LDAP, logins are managed through your organization's LDAP server.\n",
    "\"\"\"\n",
    "\n",
    "#LDAP Login\n",
    "sh = arcrest.LDAPSecurityHandler(org_url=org_url, \n",
    "                                 username=\"AVWORLD\\\\testaccount\", \n",
    "                                 password=password)\n",
    "\n",
    "\"\"\"\n",
    "Using ArcGIS Desktop (SAML work around)\n",
    "\"\"\"\n",
    "sh = arcrest.ArcGISTokenSecurityHandler()\n",
    "\n",
    "\"\"\"\n",
    "PKI - A public key infrastructure (PKI) is a set of roles, policies, and procedures needed to create, manage, \n",
    "distribute, use, store, and revoke digital certificates and manage public-key encryption\n",
    "\"\"\"\n",
    "sh = arcrest.PKISecurityHandler(org_url=org_url, \n",
    "                                keyfile=r\"<keyfile path>\", \n",
    "                                certificatefile=r\"<cert file path>\")\n"
   ]
  }
 ],
 "metadata": {
  "kernelspec": {
   "display_name": "Python 3",
   "language": "python",
   "name": "python3"
  },
  "language_info": {
   "codemirror_mode": {
    "name": "ipython",
    "version": 3
   },
   "file_extension": ".py",
   "mimetype": "text/x-python",
   "name": "python",
   "nbconvert_exporter": "python",
   "pygments_lexer": "ipython3",
   "version": "3.5.1"
  }
 },
 "nbformat": 4,
 "nbformat_minor": 0
}
